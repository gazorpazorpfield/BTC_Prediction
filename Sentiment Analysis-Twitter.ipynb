{
 "cells": [
  {
   "cell_type": "code",
   "execution_count": 1,
   "metadata": {},
   "outputs": [],
   "source": [
    "import tweepy\n",
    "from textblob import TextBlob"
   ]
  },
  {
   "cell_type": "code",
   "execution_count": 2,
   "metadata": {},
   "outputs": [],
   "source": [
    "consumer_key = 'bqkEuU6QRRWfxUlLwZTRy6wyC'\n",
    "consumer_secret = '0g6V6NrmR24i14xhkcoPh5Y98syxSqHVEoGOHtmC8gTwOXVLQl'\n",
    "\n",
    "access_token = '1141728997-chhaQ1h3m5kkweFqjxScUHTg1JVCmlZpjfR68Di'\n",
    "access_secret = 'wKp3lbZ6cYGM40Zl4dFWGaJFssts7LLH5leCzV9xDnkZ7'\n",
    "\n"
   ]
  },
  {
   "cell_type": "code",
   "execution_count": 3,
   "metadata": {},
   "outputs": [],
   "source": [
    "auth = tweepy.OAuthHandler(consumer_key, consumer_secret)\n",
    "auth.set_access_token(access_token, access_secret)\n",
    "\n",
    "api = tweepy.API(auth)\n",
    "\n"
   ]
  },
  {
   "cell_type": "code",
   "execution_count": 4,
   "metadata": {},
   "outputs": [],
   "source": [
    "public_tweets = api.search('Bitcoin' or 'BTC')\n",
    "\n"
   ]
  },
  {
   "cell_type": "code",
   "execution_count": 5,
   "metadata": {},
   "outputs": [
    {
     "name": "stdout",
     "output_type": "stream",
     "text": [
      "RT @DakuceCom: Top 20 traders on Ranking table of CYFM Trading Contest, statistics on 11PM (UTC+8) or 11AM (UTC-5).\n",
      "To know more about this…\n",
      "Sentiment(polarity=0.5, subjectivity=0.5)\n",
      "RT @upstaketoken: Together we need to reach just a few more new investors to launch the UpStake exchange! These last #ICO investors will se…\n",
      "Sentiment(polarity=0.11761363636363636, subjectivity=0.2803030303030303)\n",
      "RT @SelfPayAsia: https://t.co/NBOM5ZQ1J1\n",
      "#crypto #masternode #bitcoin #staking #mining #supernode #nodeswap\n",
      "#riskmanagement #Ranking #pool…\n",
      "Sentiment(polarity=0.0, subjectivity=0.0)\n",
      "RT @BTCTN: Markets Update: BTC Consolidates Around $7K After Breaking Trendline https://t.co/z3e5f4BCQh https://t.co/mDN0kAb64L\n",
      "Sentiment(polarity=0.0, subjectivity=0.0)\n",
      "RT @Bitmillex_ICO: Our CEO Malcolm Britton  will be speaking live at the 2018 Dubai International Blockchain Summit starting on the 9th of…\n",
      "Sentiment(polarity=0.04545454545454545, subjectivity=0.19999999999999998)\n",
      "RT @OPCoin_official: The #ecosystem is becoming alive... Don't miss 😉\n",
      "#OPCX #OPC #bitcoin #altcoin #cryptocurrency #masternodes #PoS\n",
      "$BTC $…\n",
      "Sentiment(polarity=0.275, subjectivity=0.625)\n",
      "RT @MooreGrams: So excited to finally announce this!\n",
      "\n",
      "I wrote an ABC book for children about Bitcoin and cryptocurrency, and it'll be avail…\n",
      "Sentiment(polarity=0.1875, subjectivity=0.875)\n",
      "RT @overheardcoffee: $BTC #bitcoin \"Flawless\" Edition\n",
      "- Very similar to something I remember seeing from @edwardmorra_btc\n",
      "- A PERFECT set o…\n",
      "Sentiment(polarity=0.6666666666666666, subjectivity=0.84)\n",
      "Free and Best Automatic Bitcoin - Altcoins - USDT Trading Bot https://t.co/YGE1l3C7TG… https://t.co/sshG4iuwXi\n",
      "Sentiment(polarity=0.7, subjectivity=0.55)\n",
      "New Research Reveals Wild Outlook for Bitcoin, XRP, Monero and Beyond, From Moonshots to Absolute Extinction https://t.co/GBXOzG5Vk2\n",
      "Sentiment(polarity=0.14545454545454548, subjectivity=0.5848484848484848)\n",
      "The first pure mined #ERC20 Token for @ethereum. #BTC #Bitcoin #ETH #Ethereum #0xBTC #0xBitcoin #EIP918… https://t.co/KIs66CUwif\n",
      "Sentiment(polarity=0.23214285714285715, subjectivity=0.41666666666666663)\n",
      "RT @gubatron: Ahora puede comprar Bitcoin, Ethereum, Litecoin y Bitcoin Cash a través de Yahoo Finance https://t.co/DomOsiIrC6 via @diariob…\n",
      "Sentiment(polarity=0.0, subjectivity=0.0)\n",
      "Bitcoin: +45% https://t.co/6OPOhuNpCX\n",
      "Sentiment(polarity=0.0, subjectivity=0.0)\n"
     ]
    }
   ],
   "source": [
    "for tweet in public_tweets:\n",
    "\tprint(tweet.text)\n",
    "\tanalysis = TextBlob(tweet.text)\n",
    "\tprint(analysis.sentiment)"
   ]
  },
  {
   "cell_type": "code",
   "execution_count": null,
   "metadata": {},
   "outputs": [],
   "source": []
  }
 ],
 "metadata": {
  "kernelspec": {
   "display_name": "Python 3",
   "language": "python",
   "name": "python3"
  },
  "language_info": {
   "codemirror_mode": {
    "name": "ipython",
    "version": 3
   },
   "file_extension": ".py",
   "mimetype": "text/x-python",
   "name": "python",
   "nbconvert_exporter": "python",
   "pygments_lexer": "ipython3",
   "version": "3.6.5"
  }
 },
 "nbformat": 4,
 "nbformat_minor": 2
}
